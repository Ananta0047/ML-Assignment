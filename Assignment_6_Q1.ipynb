{
 "cells": [
  {
   "cell_type": "markdown",
   "id": "a07cf6b4-474d-4d74-a866-9b1039c4ed74",
   "metadata": {},
   "source": [
    "<!-- Que.1 -\n",
    "Data Description:\n",
    "RI : refractive index\n",
    "Na: Sodium (unit measurement: weight percent in corresponding oxide, as are attributes 4-10)\n",
    "Mg: Magnesium\n",
    "AI: Aluminum\n",
    "Si: Silicon\n",
    "K:Potassium\n",
    "Ca: Calcium\n",
    "Ba: Barium\n",
    "Fe: Iron\n",
    "Type: Type of glass: (class attribute)\n",
    " 1 -- building_windows_float_processed\n",
    " 2 --building_windows_non_float_processed\n",
    " 3 --vehicle_windows_float_processed\n",
    " 4 --vehicle_windows_non_float_processed (none in this database)\n",
    " 5 --containers\n",
    " 6 --tableware\n",
    " 7 --headlamps\n",
    " -->"
   ]
  },
  {
   "cell_type": "markdown",
   "id": "9c5f377d-1a99-4682-9450-fbdbe4047d1d",
   "metadata": {},
   "source": [
    "Que. 1\n",
    "\n",
    "Perform K-Means,Hierarchical and DBSCAN Clustering for the airlines data to obtain optimum number of clusters. \n",
    "Also Visualise the results.\n",
    "\n",
    "Data Description:\n",
    " \n",
    "The file EastWest.csv data contains information on passengers who belong to an airline’s frequent flier program. For each passenger the data include information on their mileage history and on different ways they accrued or spent miles in the last year. The goal is to try to identify clusters of passengers that have similar characteristics for the purpose of targeting different segments for different types of mileage offers.\n",
    "\n",
    "Balance--Number of miles eligible for award travel\n",
    "\n",
    "Qual_mile--Number of miles counted as qualifying for Topflight status\n",
    "\n",
    "cc1_miles -- Number of miles earned with freq. flyer credit card in the past 12 months:\n",
    "cc2_miles -- Number of miles earned with Rewards credit card in the past 12 months:\n",
    "cc3_miles -- Number of miles earned with Small Business credit card in the past 12 months:\n",
    "\n",
    "Bonus_miles--Number of miles earned from non-flight bonus transactions in the past 12 months\n",
    "\n",
    "Bonus_trans--Number of non-flight bonus transactions in the past 12 months\n",
    "\n",
    "Flight_miles_12mo--Number of flight miles in the past 12 months\n",
    "\n",
    "Flight_trans_12--Number of flight transactions in the past 12 months\n",
    "\n",
    "Days_since_enrolled--Number of days since enrolled in flier program\n",
    "\n",
    "Award--whether that person had award flight (free flight) or not.\n"
   ]
  },
  {
   "cell_type": "code",
   "execution_count": 2,
   "id": "256dbeb2-b730-458f-b772-250b67c19fcd",
   "metadata": {},
   "outputs": [],
   "source": [
    "import warnings \n",
    "warnings.filterwarnings('ignore')"
   ]
  },
  {
   "cell_type": "code",
   "execution_count": 3,
   "id": "8825e961-40b9-4e24-b8ad-9c483c0d345f",
   "metadata": {},
   "outputs": [],
   "source": [
    "import pandas as pd\n",
    "import numpy as np\n",
    "import seaborn as sns\n",
    "import matplotlib.pyplot as plt"
   ]
  },
  {
   "cell_type": "code",
   "execution_count": null,
   "id": "8fdb7647-06d9-487b-b12c-49b74df75053",
   "metadata": {},
   "outputs": [],
   "source": [
    "df = pd.read_csv(\"EastWest .csv\")"
   ]
  },
  {
   "cell_type": "code",
   "execution_count": 5,
   "id": "31e7654c-1e92-45b3-9561-18df06bdb4fb",
   "metadata": {},
   "outputs": [
    {
     "data": {
      "text/html": [
       "<div>\n",
       "<style scoped>\n",
       "    .dataframe tbody tr th:only-of-type {\n",
       "        vertical-align: middle;\n",
       "    }\n",
       "\n",
       "    .dataframe tbody tr th {\n",
       "        vertical-align: top;\n",
       "    }\n",
       "\n",
       "    .dataframe thead th {\n",
       "        text-align: right;\n",
       "    }\n",
       "</style>\n",
       "<table border=\"1\" class=\"dataframe\">\n",
       "  <thead>\n",
       "    <tr style=\"text-align: right;\">\n",
       "      <th></th>\n",
       "      <th>ID#</th>\n",
       "      <th>Balance</th>\n",
       "      <th>Qual_miles</th>\n",
       "      <th>cc1_miles</th>\n",
       "      <th>cc2_miles</th>\n",
       "      <th>cc3_miles</th>\n",
       "      <th>Bonus_miles</th>\n",
       "      <th>Bonus_trans</th>\n",
       "      <th>Flight_miles_12mo</th>\n",
       "      <th>Flight_trans_12</th>\n",
       "      <th>Days_since_enroll</th>\n",
       "      <th>Award?</th>\n",
       "    </tr>\n",
       "  </thead>\n",
       "  <tbody>\n",
       "    <tr>\n",
       "      <th>0</th>\n",
       "      <td>1</td>\n",
       "      <td>28143</td>\n",
       "      <td>0</td>\n",
       "      <td>1</td>\n",
       "      <td>1</td>\n",
       "      <td>1</td>\n",
       "      <td>174</td>\n",
       "      <td>1</td>\n",
       "      <td>0</td>\n",
       "      <td>0</td>\n",
       "      <td>7000</td>\n",
       "      <td>0</td>\n",
       "    </tr>\n",
       "    <tr>\n",
       "      <th>1</th>\n",
       "      <td>2</td>\n",
       "      <td>19244</td>\n",
       "      <td>0</td>\n",
       "      <td>1</td>\n",
       "      <td>1</td>\n",
       "      <td>1</td>\n",
       "      <td>215</td>\n",
       "      <td>2</td>\n",
       "      <td>0</td>\n",
       "      <td>0</td>\n",
       "      <td>6968</td>\n",
       "      <td>0</td>\n",
       "    </tr>\n",
       "    <tr>\n",
       "      <th>2</th>\n",
       "      <td>3</td>\n",
       "      <td>41354</td>\n",
       "      <td>0</td>\n",
       "      <td>1</td>\n",
       "      <td>1</td>\n",
       "      <td>1</td>\n",
       "      <td>4123</td>\n",
       "      <td>4</td>\n",
       "      <td>0</td>\n",
       "      <td>0</td>\n",
       "      <td>7034</td>\n",
       "      <td>0</td>\n",
       "    </tr>\n",
       "    <tr>\n",
       "      <th>3</th>\n",
       "      <td>4</td>\n",
       "      <td>14776</td>\n",
       "      <td>0</td>\n",
       "      <td>1</td>\n",
       "      <td>1</td>\n",
       "      <td>1</td>\n",
       "      <td>500</td>\n",
       "      <td>1</td>\n",
       "      <td>0</td>\n",
       "      <td>0</td>\n",
       "      <td>6952</td>\n",
       "      <td>0</td>\n",
       "    </tr>\n",
       "    <tr>\n",
       "      <th>4</th>\n",
       "      <td>5</td>\n",
       "      <td>97752</td>\n",
       "      <td>0</td>\n",
       "      <td>4</td>\n",
       "      <td>1</td>\n",
       "      <td>1</td>\n",
       "      <td>43300</td>\n",
       "      <td>26</td>\n",
       "      <td>2077</td>\n",
       "      <td>4</td>\n",
       "      <td>6935</td>\n",
       "      <td>1</td>\n",
       "    </tr>\n",
       "  </tbody>\n",
       "</table>\n",
       "</div>"
      ],
      "text/plain": [
       "   ID#  Balance  Qual_miles  cc1_miles  cc2_miles  cc3_miles  Bonus_miles  \\\n",
       "0    1    28143           0          1          1          1          174   \n",
       "1    2    19244           0          1          1          1          215   \n",
       "2    3    41354           0          1          1          1         4123   \n",
       "3    4    14776           0          1          1          1          500   \n",
       "4    5    97752           0          4          1          1        43300   \n",
       "\n",
       "   Bonus_trans  Flight_miles_12mo  Flight_trans_12  Days_since_enroll  Award?  \n",
       "0            1                  0                0               7000       0  \n",
       "1            2                  0                0               6968       0  \n",
       "2            4                  0                0               7034       0  \n",
       "3            1                  0                0               6952       0  \n",
       "4           26               2077                4               6935       1  "
      ]
     },
     "execution_count": 5,
     "metadata": {},
     "output_type": "execute_result"
    }
   ],
   "source": [
    "df.head()"
   ]
  },
  {
   "cell_type": "code",
   "execution_count": 6,
   "id": "9c4d9446-7eab-481c-8716-359f9ccb13fc",
   "metadata": {},
   "outputs": [],
   "source": [
    "df.drop('ID#',axis = 1, inplace = True)"
   ]
  },
  {
   "cell_type": "code",
   "execution_count": 7,
   "id": "fa21c41d-bc2c-4839-8525-dc4499210a77",
   "metadata": {},
   "outputs": [
    {
     "data": {
      "text/html": [
       "<div>\n",
       "<style scoped>\n",
       "    .dataframe tbody tr th:only-of-type {\n",
       "        vertical-align: middle;\n",
       "    }\n",
       "\n",
       "    .dataframe tbody tr th {\n",
       "        vertical-align: top;\n",
       "    }\n",
       "\n",
       "    .dataframe thead th {\n",
       "        text-align: right;\n",
       "    }\n",
       "</style>\n",
       "<table border=\"1\" class=\"dataframe\">\n",
       "  <thead>\n",
       "    <tr style=\"text-align: right;\">\n",
       "      <th></th>\n",
       "      <th>Balance</th>\n",
       "      <th>Qual_miles</th>\n",
       "      <th>cc1_miles</th>\n",
       "      <th>cc2_miles</th>\n",
       "      <th>cc3_miles</th>\n",
       "      <th>Bonus_miles</th>\n",
       "      <th>Bonus_trans</th>\n",
       "      <th>Flight_miles_12mo</th>\n",
       "      <th>Flight_trans_12</th>\n",
       "      <th>Days_since_enroll</th>\n",
       "      <th>Award?</th>\n",
       "    </tr>\n",
       "  </thead>\n",
       "  <tbody>\n",
       "    <tr>\n",
       "      <th>0</th>\n",
       "      <td>28143</td>\n",
       "      <td>0</td>\n",
       "      <td>1</td>\n",
       "      <td>1</td>\n",
       "      <td>1</td>\n",
       "      <td>174</td>\n",
       "      <td>1</td>\n",
       "      <td>0</td>\n",
       "      <td>0</td>\n",
       "      <td>7000</td>\n",
       "      <td>0</td>\n",
       "    </tr>\n",
       "    <tr>\n",
       "      <th>1</th>\n",
       "      <td>19244</td>\n",
       "      <td>0</td>\n",
       "      <td>1</td>\n",
       "      <td>1</td>\n",
       "      <td>1</td>\n",
       "      <td>215</td>\n",
       "      <td>2</td>\n",
       "      <td>0</td>\n",
       "      <td>0</td>\n",
       "      <td>6968</td>\n",
       "      <td>0</td>\n",
       "    </tr>\n",
       "    <tr>\n",
       "      <th>2</th>\n",
       "      <td>41354</td>\n",
       "      <td>0</td>\n",
       "      <td>1</td>\n",
       "      <td>1</td>\n",
       "      <td>1</td>\n",
       "      <td>4123</td>\n",
       "      <td>4</td>\n",
       "      <td>0</td>\n",
       "      <td>0</td>\n",
       "      <td>7034</td>\n",
       "      <td>0</td>\n",
       "    </tr>\n",
       "    <tr>\n",
       "      <th>3</th>\n",
       "      <td>14776</td>\n",
       "      <td>0</td>\n",
       "      <td>1</td>\n",
       "      <td>1</td>\n",
       "      <td>1</td>\n",
       "      <td>500</td>\n",
       "      <td>1</td>\n",
       "      <td>0</td>\n",
       "      <td>0</td>\n",
       "      <td>6952</td>\n",
       "      <td>0</td>\n",
       "    </tr>\n",
       "    <tr>\n",
       "      <th>4</th>\n",
       "      <td>97752</td>\n",
       "      <td>0</td>\n",
       "      <td>4</td>\n",
       "      <td>1</td>\n",
       "      <td>1</td>\n",
       "      <td>43300</td>\n",
       "      <td>26</td>\n",
       "      <td>2077</td>\n",
       "      <td>4</td>\n",
       "      <td>6935</td>\n",
       "      <td>1</td>\n",
       "    </tr>\n",
       "  </tbody>\n",
       "</table>\n",
       "</div>"
      ],
      "text/plain": [
       "   Balance  Qual_miles  cc1_miles  cc2_miles  cc3_miles  Bonus_miles  \\\n",
       "0    28143           0          1          1          1          174   \n",
       "1    19244           0          1          1          1          215   \n",
       "2    41354           0          1          1          1         4123   \n",
       "3    14776           0          1          1          1          500   \n",
       "4    97752           0          4          1          1        43300   \n",
       "\n",
       "   Bonus_trans  Flight_miles_12mo  Flight_trans_12  Days_since_enroll  Award?  \n",
       "0            1                  0                0               7000       0  \n",
       "1            2                  0                0               6968       0  \n",
       "2            4                  0                0               7034       0  \n",
       "3            1                  0                0               6952       0  \n",
       "4           26               2077                4               6935       1  "
      ]
     },
     "execution_count": 7,
     "metadata": {},
     "output_type": "execute_result"
    }
   ],
   "source": [
    "df.head()"
   ]
  },
  {
   "cell_type": "code",
   "execution_count": 8,
   "id": "39bef00a-13a7-4db1-a548-17989a3b1d6e",
   "metadata": {},
   "outputs": [],
   "source": [
    "from sklearn.cluster import KMeans\n",
    "wss = []\n",
    "for k in range(1,10):\n",
    "    kmeans = KMeans(n_clusters=k)\n",
    "\n",
    "    clusters_info = kmeans.fit(df)\n",
    "\n",
    "    wss.append(clusters_info.inertia_)\n",
    "\n",
    "    "
   ]
  },
  {
   "cell_type": "code",
   "execution_count": 9,
   "id": "79239baf-3d90-4199-b2f1-4ff470b17794",
   "metadata": {},
   "outputs": [
    {
     "data": {
      "text/plain": [
       "[42961820046587.09,\n",
       " 20823632642041.957,\n",
       " 11850310224758.328,\n",
       " 7549750702017.203,\n",
       " 5724556335991.399,\n",
       " 4541474708730.523,\n",
       " 4269047565603.801,\n",
       " 3359265078443.3115,\n",
       " 2941109220348.335]"
      ]
     },
     "execution_count": 9,
     "metadata": {},
     "output_type": "execute_result"
    }
   ],
   "source": [
    "wss"
   ]
  },
  {
   "cell_type": "code",
   "execution_count": 10,
   "id": "e258833f-7fc4-497e-a379-100ddc774c9e",
   "metadata": {},
   "outputs": [
    {
     "data": {
      "text/plain": [
       "array([[6.62487592e+04, 1.53344482e+02, 4.25752508e+00, 1.01003344e+00,\n",
       "        1.10367893e+00, 5.88353946e+04, 2.11906355e+01, 7.28869565e+02,\n",
       "        2.08026756e+00, 4.67164214e+03, 7.62541806e-01],\n",
       "       [4.68674811e+05, 4.44648649e+02, 3.24324324e+00, 1.02702703e+00,\n",
       "        1.00000000e+00, 5.02033784e+04, 1.88648649e+01, 1.49224324e+03,\n",
       "        4.94594595e+00, 6.15394595e+03, 7.29729730e-01],\n",
       "       [2.07211131e+05, 3.15575510e+02, 2.95918367e+00, 1.00000000e+00,\n",
       "        1.01224490e+00, 3.35504041e+04, 1.77510204e+01, 9.91697959e+02,\n",
       "        2.84489796e+00, 5.02877143e+03, 4.77551020e-01],\n",
       "       [1.85729856e+04, 8.22517296e+01, 1.35550825e+00, 1.01703034e+00,\n",
       "        1.00000000e+00, 5.70266152e+03, 7.55614689e+00, 1.95270889e+02,\n",
       "        6.31718999e-01, 3.58573337e+03, 2.84725918e-01],\n",
       "       [1.28891580e+06, 1.52800000e+03, 3.00000000e+00, 1.00000000e+00,\n",
       "        1.00000000e+00, 3.90980000e+04, 2.46000000e+01, 2.75460000e+03,\n",
       "        1.14000000e+01, 7.82160000e+03, 8.00000000e-01],\n",
       "       [1.26973444e+05, 2.15070476e+02, 2.82857143e+00, 1.01142857e+00,\n",
       "        1.02285714e+00, 2.68732514e+04, 1.56247619e+01, 7.67828571e+02,\n",
       "        2.22857143e+00, 4.72241524e+03, 4.24761905e-01],\n",
       "       [7.49695053e+05, 2.99473684e+02, 3.36842105e+00, 1.00000000e+00,\n",
       "        1.15789474e+00, 5.74243158e+04, 2.21052632e+01, 1.61947368e+03,\n",
       "        5.57894737e+00, 6.02410526e+03, 8.94736842e-01],\n",
       "       [6.25493201e+04, 1.32241722e+02, 1.91832230e+00, 1.01545254e+00,\n",
       "        1.00000000e+00, 1.15878885e+04, 1.14094923e+01, 4.12613687e+02,\n",
       "        1.19094923e+00, 4.17003091e+03, 2.99116998e-01],\n",
       "       [3.27350810e+05, 4.29666667e+02, 3.20238095e+00, 1.02380952e+00,\n",
       "        1.00000000e+00, 5.10017381e+04, 2.06190476e+01, 1.61020238e+03,\n",
       "        4.66666667e+00, 5.53664286e+03, 7.02380952e-01]])"
      ]
     },
     "execution_count": 10,
     "metadata": {},
     "output_type": "execute_result"
    }
   ],
   "source": [
    "clusters_info.cluster_centers_"
   ]
  },
  {
   "cell_type": "code",
   "execution_count": 11,
   "id": "f42c1665-ff7c-4c13-ab1f-5a384c442c01",
   "metadata": {},
   "outputs": [
    {
     "data": {
      "text/plain": [
       "11"
      ]
     },
     "execution_count": 11,
     "metadata": {},
     "output_type": "execute_result"
    }
   ],
   "source": [
    "clusters_info.n_iter_"
   ]
  },
  {
   "cell_type": "code",
   "execution_count": 12,
   "id": "f70d4cf4-7591-4297-820d-8b492124cba7",
   "metadata": {},
   "outputs": [
    {
     "data": {
      "text/plain": [
       "9"
      ]
     },
     "execution_count": 12,
     "metadata": {},
     "output_type": "execute_result"
    }
   ],
   "source": [
    "len(clusters_info.cluster_centers_)"
   ]
  },
  {
   "cell_type": "code",
   "execution_count": 13,
   "id": "8ea23d9a-58d8-4c94-aa95-479c687002d4",
   "metadata": {},
   "outputs": [
    {
     "data": {
      "text/plain": [
       "array([0, 1, 2, 3, 4, 5, 6, 7, 8], dtype=int32)"
      ]
     },
     "execution_count": 13,
     "metadata": {},
     "output_type": "execute_result"
    }
   ],
   "source": [
    "np.unique(clusters_info.labels_)"
   ]
  },
  {
   "cell_type": "code",
   "execution_count": 14,
   "id": "48315c38-8b6d-4fbc-9d52-6b389a61b19d",
   "metadata": {},
   "outputs": [
    {
     "data": {
      "text/plain": [
       "<matplotlib.legend.Legend at 0x27357ae6660>"
      ]
     },
     "execution_count": 14,
     "metadata": {},
     "output_type": "execute_result"
    },
    {
     "data": {
      "image/png": "[encoded data removed]",
      "text/plain": [
       "<Figure size 640x480 with 1 Axes>"
      ]
     },
     "metadata": {},
     "output_type": "display_data"
    }
   ],
   "source": [
    "plt.scatter(range(1, 10), wss, label=\"WSS\")\n",
    "plt.plot(range(1, 10), wss)\n",
    "plt.xlabel(\"No of clusters\")\n",
    "plt.ylabel(\"WSS\")\n",
    "plt.title(\"Elbow Method\")\n",
    "plt.legend()"
   ]
  },
  {
   "cell_type": "code",
   "execution_count": 15,
   "id": "187469a2-2ee7-47d2-8464-22e8582bcf9c",
   "metadata": {},
   "outputs": [
    {
     "data": {
      "text/plain": [
       "Text(0.5, 1.0, 'Clusters')"
      ]
     },
     "execution_count": 15,
     "metadata": {},
     "output_type": "execute_result"
    },
    {
     "data": {
      "image/png": "[encoded data removed]",
      "text/plain": [
       "<Figure size 640x480 with 1 Axes>"
      ]
     },
     "metadata": {},
     "output_type": "display_data"
    }
   ],
   "source": [
    "plt.scatter(df['Balance'][clusters_info.labels_ == 0], df['Bonus_miles'][clusters_info.labels_ == 0], color=\"red\")\n",
    "plt.scatter(df['Balance'][clusters_info.labels_ == 1], df['Bonus_miles'][clusters_info.labels_ == 1], color=\"green\")\n",
    "plt.scatter(df['Balance'][clusters_info.labels_ == 2], df['Bonus_miles'][clusters_info.labels_ == 2], color=\"yellow\")\n",
    "plt.scatter(df['Balance'][clusters_info.labels_ == 3], df['Bonus_miles'][clusters_info.labels_ == 3], color=\"blue\")\n",
    "plt.scatter(df['Balance'][clusters_info.labels_ == 4], df['Bonus_miles'][clusters_info.labels_ == 4], color=\"brown\")\n",
    "# plt.scatter(df['Balance'][clusters_info.labels_ == 5], df['Bonus_miles'][clusters_info.labels_ == 5], color=\"pink\")\n",
    "# plt.scatter(df['Balance'][clusters_info.labels_ == 6], df['Bonus_miles'][clusters_info.labels_ == 6], color=\"orange\")\n",
    "# plt.scatter(df['Balance'][clusters_info.labels_ == 7], df['Bonus_miles'][clusters_info.labels_ == 7], color=\"violet\")\n",
    "# plt.scatter(df['Balance'][clusters_info.labels_ == 8], df['Bonus_miles'][clusters_info.labels_ == 8], color=\"magenta\")\n",
    "plt.xlabel(\"Income\")\n",
    "plt.ylabel(\"Spending Score\")\n",
    "plt.title(\"Clusters\")"
   ]
  },
  {
   "cell_type": "code",
   "execution_count": null,
   "id": "40dab31c-9abf-4fbf-b5bf-26fda7f4dfed",
   "metadata": {},
   "outputs": [],
   "source": []
  },
  {
   "cell_type": "code",
   "execution_count": null,
   "id": "954570f9-4c99-4063-86df-bc29f1429ae7",
   "metadata": {},
   "outputs": [],
   "source": []
  },
  {
   "cell_type": "code",
   "execution_count": null,
   "id": "a6189c54-7f25-4538-9466-ee3f7a4c5cd7",
   "metadata": {},
   "outputs": [],
   "source": []
  }
 ],
 "metadata": {
  "kernelspec": {
   "display_name": "Python 3 (ipykernel)",
   "language": "python",
   "name": "python3"
  },
  "language_info": {
   "codemirror_mode": {
    "name": "ipython",
    "version": 3
   },
   "file_extension": ".py",
   "mimetype": "text/x-python",
   "name": "python",
   "nbconvert_exporter": "python",
   "pygments_lexer": "ipython3",
   "version": "3.13.2"
  }
 },
 "nbformat": 4,
 "nbformat_minor": 5
}
