{
 "cells": [
  {
   "cell_type": "markdown",
   "id": "95f0b6b4-288f-4225-9ce1-ade591ef6da2",
   "metadata": {},
   "source": [
    "\n",
    "Que. 3\n",
    "\n",
    "Perform K-Means,Hierarchical and DBSCAN Clustering for the Universities.csv data and identify the number of clusters formed and Visualise the results.\n"
   ]
  },
  {
   "cell_type": "code",
   "execution_count": 1,
   "id": "5ddf6fce-2739-468f-b3a0-00214c682ca7",
   "metadata": {},
   "outputs": [],
   "source": [
    "import warnings \n",
    "import numpy as np\n",
    "import pandas as pd \n",
    "import seaborn as sns\n",
    "import matplotlib.pyplot as plt\n",
    "warnings.filterwarnings('ignore')"
   ]
  },
  {
   "cell_type": "code",
   "execution_count": null,
   "id": "012937d0-c227-4f6b-8e7b-5e4e84fade5b",
   "metadata": {},
   "outputs": [],
   "source": [
    "df = pd.read_csv(\"Universities.csv\")"
   ]
  },
  {
   "cell_type": "code",
   "execution_count": 3,
   "id": "6ead3e3d-669e-4ca3-9485-421f473f852f",
   "metadata": {},
   "outputs": [
    {
     "data": {
      "text/html": [
       "<div>\n",
       "<style scoped>\n",
       "    .dataframe tbody tr th:only-of-type {\n",
       "        vertical-align: middle;\n",
       "    }\n",
       "\n",
       "    .dataframe tbody tr th {\n",
       "        vertical-align: top;\n",
       "    }\n",
       "\n",
       "    .dataframe thead th {\n",
       "        text-align: right;\n",
       "    }\n",
       "</style>\n",
       "<table border=\"1\" class=\"dataframe\">\n",
       "  <thead>\n",
       "    <tr style=\"text-align: right;\">\n",
       "      <th></th>\n",
       "      <th>Univ</th>\n",
       "      <th>SAT</th>\n",
       "      <th>Top10</th>\n",
       "      <th>Accept</th>\n",
       "      <th>SFRatio</th>\n",
       "      <th>Expenses</th>\n",
       "      <th>GradRate</th>\n",
       "    </tr>\n",
       "  </thead>\n",
       "  <tbody>\n",
       "    <tr>\n",
       "      <th>0</th>\n",
       "      <td>Brown</td>\n",
       "      <td>1310</td>\n",
       "      <td>89</td>\n",
       "      <td>22</td>\n",
       "      <td>13</td>\n",
       "      <td>22704</td>\n",
       "      <td>94</td>\n",
       "    </tr>\n",
       "    <tr>\n",
       "      <th>1</th>\n",
       "      <td>CalTech</td>\n",
       "      <td>1415</td>\n",
       "      <td>100</td>\n",
       "      <td>25</td>\n",
       "      <td>6</td>\n",
       "      <td>63575</td>\n",
       "      <td>81</td>\n",
       "    </tr>\n",
       "  </tbody>\n",
       "</table>\n",
       "</div>"
      ],
      "text/plain": [
       "      Univ   SAT  Top10  Accept  SFRatio  Expenses  GradRate\n",
       "0    Brown  1310     89      22       13     22704        94\n",
       "1  CalTech  1415    100      25        6     63575        81"
      ]
     },
     "execution_count": 3,
     "metadata": {},
     "output_type": "execute_result"
    }
   ],
   "source": [
    "df.head(2)"
   ]
  },
  {
   "cell_type": "code",
   "execution_count": 5,
   "id": "888e8f4c-2914-452a-b127-c6b5589792fd",
   "metadata": {},
   "outputs": [],
   "source": [
    "df.drop('Univ',axis = 1,inplace = True)"
   ]
  },
  {
   "cell_type": "code",
   "execution_count": 6,
   "id": "a1cba303-5075-477e-9ec9-6caf1975d620",
   "metadata": {},
   "outputs": [
    {
     "data": {
      "text/html": [
       "<div>\n",
       "<style scoped>\n",
       "    .dataframe tbody tr th:only-of-type {\n",
       "        vertical-align: middle;\n",
       "    }\n",
       "\n",
       "    .dataframe tbody tr th {\n",
       "        vertical-align: top;\n",
       "    }\n",
       "\n",
       "    .dataframe thead th {\n",
       "        text-align: right;\n",
       "    }\n",
       "</style>\n",
       "<table border=\"1\" class=\"dataframe\">\n",
       "  <thead>\n",
       "    <tr style=\"text-align: right;\">\n",
       "      <th></th>\n",
       "      <th>SAT</th>\n",
       "      <th>Top10</th>\n",
       "      <th>Accept</th>\n",
       "      <th>SFRatio</th>\n",
       "      <th>Expenses</th>\n",
       "      <th>GradRate</th>\n",
       "    </tr>\n",
       "  </thead>\n",
       "  <tbody>\n",
       "    <tr>\n",
       "      <th>0</th>\n",
       "      <td>1310</td>\n",
       "      <td>89</td>\n",
       "      <td>22</td>\n",
       "      <td>13</td>\n",
       "      <td>22704</td>\n",
       "      <td>94</td>\n",
       "    </tr>\n",
       "    <tr>\n",
       "      <th>1</th>\n",
       "      <td>1415</td>\n",
       "      <td>100</td>\n",
       "      <td>25</td>\n",
       "      <td>6</td>\n",
       "      <td>63575</td>\n",
       "      <td>81</td>\n",
       "    </tr>\n",
       "  </tbody>\n",
       "</table>\n",
       "</div>"
      ],
      "text/plain": [
       "    SAT  Top10  Accept  SFRatio  Expenses  GradRate\n",
       "0  1310     89      22       13     22704        94\n",
       "1  1415    100      25        6     63575        81"
      ]
     },
     "execution_count": 6,
     "metadata": {},
     "output_type": "execute_result"
    }
   ],
   "source": [
    "df.head(2)"
   ]
  },
  {
   "cell_type": "code",
   "execution_count": 8,
   "id": "37f34680-6896-4361-93cd-f6d0423ce20b",
   "metadata": {},
   "outputs": [],
   "source": [
    "from sklearn.cluster import AgglomerativeClustering\n",
    "cluster_info = AgglomerativeClustering(n_clusters=5)\n",
    "cluster_info = cluster_info.fit(df)"
   ]
  },
  {
   "cell_type": "code",
   "execution_count": 9,
   "id": "916e858c-6e22-4bb0-8ff4-7fd0d2e6aaf6",
   "metadata": {},
   "outputs": [
    {
     "data": {
      "text/plain": [
       "array([4, 2, 1, 1, 4, 1, 1, 4, 3, 2, 3, 1, 0, 0, 1, 0, 3, 0, 0, 3, 0, 1,\n",
       "       0, 0, 3])"
      ]
     },
     "execution_count": 9,
     "metadata": {},
     "output_type": "execute_result"
    }
   ],
   "source": [
    "cluster_info.labels_"
   ]
  },
  {
   "cell_type": "code",
   "execution_count": 11,
   "id": "1a5776cb-41ce-4df9-92f7-276bb3090163",
   "metadata": {},
   "outputs": [
    {
     "data": {
      "image/png": "[encoded data removed]",
      "text/plain": [
       "<Figure size 640x480 with 1 Axes>"
      ]
     },
     "metadata": {},
     "output_type": "display_data"
    }
   ],
   "source": [
    "markers = ['^','o','x','*','s']\n",
    "for i in range(5):\n",
    "    plt.scatter(\n",
    "        df['SAT'][cluster_info.labels_ == i],\n",
    "        df['GradRate'][cluster_info.labels_ == i],\n",
    "        marker = markers[i]\n",
    "    )"
   ]
  },
  {
   "cell_type": "markdown",
   "id": "4e70d4d1-c1cd-4892-aa86-4dee164d20d9",
   "metadata": {},
   "source": [
    "## DBscan"
   ]
  },
  {
   "cell_type": "code",
   "execution_count": 13,
   "id": "f056625a-2646-4836-9238-4fe715b13bcc",
   "metadata": {},
   "outputs": [],
   "source": [
    "from sklearn.cluster import DBSCAN\n",
    "dbscan =  DBSCAN(eps=7,min_samples=10)\n",
    "dbscan = dbscan.fit(df)"
   ]
  },
  {
   "cell_type": "code",
   "execution_count": 16,
   "id": "e0b730aa-afb8-40fa-bad0-644ed83b2514",
   "metadata": {},
   "outputs": [
    {
     "data": {
      "text/plain": [
       "array([-1, -1, -1, -1, -1, -1, -1, -1, -1, -1, -1, -1, -1, -1, -1, -1, -1,\n",
       "       -1, -1, -1, -1, -1, -1, -1, -1])"
      ]
     },
     "execution_count": 16,
     "metadata": {},
     "output_type": "execute_result"
    }
   ],
   "source": [
    "dbscan.labels_"
   ]
  },
  {
   "cell_type": "code",
   "execution_count": 18,
   "id": "ed18fec6-ac47-4a91-bf8b-d6d225010667",
   "metadata": {},
   "outputs": [
    {
     "data": {
      "text/plain": [
       "<matplotlib.legend.Legend at 0x2492f3b3cb0>"
      ]
     },
     "execution_count": 18,
     "metadata": {},
     "output_type": "execute_result"
    },
    {
     "data": {
      "image/png": "[encoded data removed]",
      "text/plain": [
       "<Figure size 640x480 with 1 Axes>"
      ]
     },
     "metadata": {},
     "output_type": "display_data"
    }
   ],
   "source": [
    "markers = ['o','^','*','s','x']\n",
    "for cluster in range(5):\n",
    "    plt.scatter(\n",
    "        df['SAT'][dbscan.labels_ == cluster],\n",
    "        df['GradRate'][dbscan.labels_ == cluster],\n",
    "        marker = markers[cluster]\n",
    "    )\n",
    "\n",
    "    plt.scatter(\n",
    "        df['SAT'][dbscan.labels_ == -1],\n",
    "        df['GradRate'][dbscan.labels_ == -1],\n",
    "        marker = '^',\n",
    "        color = \"black\"\n",
    "    )\n",
    "plt.xlabel('Assault')\n",
    "plt.ylabel('Rape')\n",
    "plt.title('DB Scan')\n",
    "plt.legend()"
   ]
  },
  {
   "cell_type": "code",
   "execution_count": null,
   "id": "e3cdb7d2-7436-4036-872f-37795c25d1d1",
   "metadata": {},
   "outputs": [],
   "source": []
  }
 ],
 "metadata": {
  "kernelspec": {
   "display_name": "Python 3 (ipykernel)",
   "language": "python",
   "name": "python3"
  },
  "language_info": {
   "codemirror_mode": {
    "name": "ipython",
    "version": 3
   },
   "file_extension": ".py",
   "mimetype": "text/x-python",
   "name": "python",
   "nbconvert_exporter": "python",
   "pygments_lexer": "ipython3",
   "version": "3.13.2"
  }
 },
 "nbformat": 4,
 "nbformat_minor": 5
}
