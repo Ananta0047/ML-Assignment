{
 "cells": [
  {
   "cell_type": "markdown",
   "id": "52fe7b96-d365-4c3f-8187-16c0d6724efe",
   "metadata": {},
   "source": [
    "Que. 3\n",
    "\n",
    "Perform K-Means,Hierarchical and DBSCAN Clustering for the Universities.csv data and identify the number of clusters formed and Visualise the results.\n"
   ]
  },
  {
   "cell_type": "code",
   "execution_count": 1,
   "id": "f5a7b573-6587-4b7c-a65d-1ebead70e5de",
   "metadata": {},
   "outputs": [],
   "source": [
    "import warnings\n",
    "warnings.filterwarnings('ignore')"
   ]
  },
  {
   "cell_type": "code",
   "execution_count": 2,
   "id": "c4bb937b-82ea-4a02-9216-d8e995580669",
   "metadata": {},
   "outputs": [],
   "source": [
    "import pandas as pd\n",
    "import numpy as np\n",
    "import seaborn as sns\n",
    "import matplotlib.pyplot as plt"
   ]
  },
  {
   "cell_type": "code",
   "execution_count": null,
   "id": "86131cac-b2b1-4e6f-8a9e-58bea83acf4a",
   "metadata": {},
   "outputs": [],
   "source": [
    "df = pd.read_csv(\"Universities.csv\")"
   ]
  },
  {
   "cell_type": "code",
   "execution_count": 4,
   "id": "4c18a472-22a6-4a0f-b4b0-ff6b4c0805b7",
   "metadata": {},
   "outputs": [
    {
     "data": {
      "text/html": [
       "<div>\n",
       "<style scoped>\n",
       "    .dataframe tbody tr th:only-of-type {\n",
       "        vertical-align: middle;\n",
       "    }\n",
       "\n",
       "    .dataframe tbody tr th {\n",
       "        vertical-align: top;\n",
       "    }\n",
       "\n",
       "    .dataframe thead th {\n",
       "        text-align: right;\n",
       "    }\n",
       "</style>\n",
       "<table border=\"1\" class=\"dataframe\">\n",
       "  <thead>\n",
       "    <tr style=\"text-align: right;\">\n",
       "      <th></th>\n",
       "      <th>Univ</th>\n",
       "      <th>SAT</th>\n",
       "      <th>Top10</th>\n",
       "      <th>Accept</th>\n",
       "      <th>SFRatio</th>\n",
       "      <th>Expenses</th>\n",
       "      <th>GradRate</th>\n",
       "    </tr>\n",
       "  </thead>\n",
       "  <tbody>\n",
       "    <tr>\n",
       "      <th>0</th>\n",
       "      <td>Brown</td>\n",
       "      <td>1310</td>\n",
       "      <td>89</td>\n",
       "      <td>22</td>\n",
       "      <td>13</td>\n",
       "      <td>22704</td>\n",
       "      <td>94</td>\n",
       "    </tr>\n",
       "    <tr>\n",
       "      <th>1</th>\n",
       "      <td>CalTech</td>\n",
       "      <td>1415</td>\n",
       "      <td>100</td>\n",
       "      <td>25</td>\n",
       "      <td>6</td>\n",
       "      <td>63575</td>\n",
       "      <td>81</td>\n",
       "    </tr>\n",
       "    <tr>\n",
       "      <th>2</th>\n",
       "      <td>CMU</td>\n",
       "      <td>1260</td>\n",
       "      <td>62</td>\n",
       "      <td>59</td>\n",
       "      <td>9</td>\n",
       "      <td>25026</td>\n",
       "      <td>72</td>\n",
       "    </tr>\n",
       "    <tr>\n",
       "      <th>3</th>\n",
       "      <td>Columbia</td>\n",
       "      <td>1310</td>\n",
       "      <td>76</td>\n",
       "      <td>24</td>\n",
       "      <td>12</td>\n",
       "      <td>31510</td>\n",
       "      <td>88</td>\n",
       "    </tr>\n",
       "    <tr>\n",
       "      <th>4</th>\n",
       "      <td>Cornell</td>\n",
       "      <td>1280</td>\n",
       "      <td>83</td>\n",
       "      <td>33</td>\n",
       "      <td>13</td>\n",
       "      <td>21864</td>\n",
       "      <td>90</td>\n",
       "    </tr>\n",
       "  </tbody>\n",
       "</table>\n",
       "</div>"
      ],
      "text/plain": [
       "       Univ   SAT  Top10  Accept  SFRatio  Expenses  GradRate\n",
       "0     Brown  1310     89      22       13     22704        94\n",
       "1   CalTech  1415    100      25        6     63575        81\n",
       "2       CMU  1260     62      59        9     25026        72\n",
       "3  Columbia  1310     76      24       12     31510        88\n",
       "4   Cornell  1280     83      33       13     21864        90"
      ]
     },
     "execution_count": 4,
     "metadata": {},
     "output_type": "execute_result"
    }
   ],
   "source": [
    "df.head()"
   ]
  },
  {
   "cell_type": "code",
   "execution_count": 5,
   "id": "18e73a52-168c-4637-a705-2c4234f86068",
   "metadata": {},
   "outputs": [],
   "source": [
    "df.drop('Univ',axis = 1,inplace = True)"
   ]
  },
  {
   "cell_type": "code",
   "execution_count": 6,
   "id": "6d2337bd-c6e3-4fef-bf30-01cf82e56b88",
   "metadata": {},
   "outputs": [],
   "source": [
    "from sklearn.cluster import KMeans\n",
    "k = 5\n",
    "kmeans = KMeans(n_clusters=k)\n",
    "clusters_info = kmeans.fit(df)"
   ]
  },
  {
   "cell_type": "code",
   "execution_count": 7,
   "id": "37f79f12-881b-456a-bef4-e888e1004e12",
   "metadata": {},
   "outputs": [
    {
     "data": {
      "text/plain": [
       "array([2, 3, 2, 4, 2, 4, 4, 2, 1, 3, 4, 2, 0, 0, 4, 0, 4, 0, 0, 1, 0, 2,\n",
       "       0, 0, 1], dtype=int32)"
      ]
     },
     "execution_count": 7,
     "metadata": {},
     "output_type": "execute_result"
    }
   ],
   "source": [
    "clusters_info.labels_"
   ]
  },
  {
   "cell_type": "code",
   "execution_count": 8,
   "id": "ba15d654-fa24-4189-a79d-2f360fead3a5",
   "metadata": {},
   "outputs": [
    {
     "data": {
      "text/plain": [
       "array([[1.14325000e+03, 5.91250000e+01, 5.92500000e+01, 1.71250000e+01,\n",
       "        1.23616250e+04, 7.95000000e+01],\n",
       "       [1.35500000e+03, 8.70000000e+01, 2.76666667e+01, 1.16666667e+01,\n",
       "        4.04730000e+04, 9.33333333e+01],\n",
       "       [1.27500000e+03, 7.88333333e+01, 3.55000000e+01, 1.15000000e+01,\n",
       "        2.42208333e+04, 8.78333333e+01],\n",
       "       [1.36000000e+03, 8.75000000e+01, 3.45000000e+01, 6.50000000e+00,\n",
       "        6.11330000e+04, 8.40000000e+01],\n",
       "       [1.34666667e+03, 8.83333333e+01, 2.35000000e+01, 1.06666667e+01,\n",
       "        3.27995000e+04, 9.28333333e+01]])"
      ]
     },
     "execution_count": 8,
     "metadata": {},
     "output_type": "execute_result"
    }
   ],
   "source": [
    "clusters_info.cluster_centers_"
   ]
  },
  {
   "cell_type": "code",
   "execution_count": 9,
   "id": "533868f9-7a35-4fd2-a327-8913c68a42d5",
   "metadata": {},
   "outputs": [
    {
     "data": {
      "text/plain": [
       "5"
      ]
     },
     "execution_count": 9,
     "metadata": {},
     "output_type": "execute_result"
    }
   ],
   "source": [
    "len(clusters_info.cluster_centers_)"
   ]
  },
  {
   "cell_type": "code",
   "execution_count": 10,
   "id": "d947cdf7-d077-42d2-a456-9ed5e36f84d1",
   "metadata": {},
   "outputs": [
    {
     "data": {
      "text/plain": [
       "4"
      ]
     },
     "execution_count": 10,
     "metadata": {},
     "output_type": "execute_result"
    }
   ],
   "source": [
    "clusters_info.n_iter_"
   ]
  },
  {
   "cell_type": "code",
   "execution_count": 11,
   "id": "da13dae3-37e4-457a-aa72-9cfac0fb9579",
   "metadata": {},
   "outputs": [
    {
     "data": {
      "text/plain": [
       "Text(0.5, 1.0, 'Clusters')"
      ]
     },
     "execution_count": 11,
     "metadata": {},
     "output_type": "execute_result"
    },
    {
     "data": {
      "image/png": "[encoded data removed]",
      "text/plain": [
       "<Figure size 640x480 with 1 Axes>"
      ]
     },
     "metadata": {},
     "output_type": "display_data"
    }
   ],
   "source": [
    "plt.scatter(df['SAT'][clusters_info.labels_ == 0], df['Accept'][clusters_info.labels_ == 0], color=\"red\")\n",
    "plt.scatter(df['SAT'][clusters_info.labels_ == 1], df['Accept'][clusters_info.labels_ == 1], color=\"green\")\n",
    "plt.scatter(df['SAT'][clusters_info.labels_ == 2], df['Accept'][clusters_info.labels_ == 2], color=\"yellow\")\n",
    "plt.scatter(df['SAT'][clusters_info.labels_ == 3], df['Accept'][clusters_info.labels_ == 3], color=\"magenta\")\n",
    "plt.scatter(df['SAT'][clusters_info.labels_ == 4], df['Accept'][clusters_info.labels_ == 4], color=\"orange\")\n",
    "plt.xlabel(\"SAT\")\n",
    "plt.ylabel(\"Accept\")\n",
    "plt.title(\"Clusters\")"
   ]
  },
  {
   "cell_type": "code",
   "execution_count": 12,
   "id": "5abd31aa-4dc8-4efe-8540-70a1bc307b99",
   "metadata": {},
   "outputs": [],
   "source": [
    "from sklearn.cluster import KMeans\n",
    "\n",
    "# create a list to get the within sum of squares for difrerent no of clusters\n",
    "wss = []\n",
    "\n",
    "# create a loop to find the wss for different no of clusters\n",
    "for k in range(1, 10):\n",
    "\n",
    "    # create KMeans object\n",
    "    kmeans = KMeans(n_clusters=k)\n",
    "\n",
    "    # fit the data\n",
    "    clusters_info = kmeans.fit(df)\n",
    "\n",
    "    # collect the wss for k\n",
    "    wss.append(clusters_info.inertia_)"
   ]
  },
  {
   "cell_type": "code",
   "execution_count": 13,
   "id": "eb646968-7fab-4d1a-89d2-45eb4453dcfa",
   "metadata": {},
   "outputs": [
    {
     "data": {
      "text/plain": [
       "[4994156678.48,\n",
       " 1978159375.579365,\n",
       " 582713442.3560606,\n",
       " 286514201.925,\n",
       " 209256074.12777779,\n",
       " 111518713.04166666,\n",
       " 69933350.93333334,\n",
       " 44233695.25,\n",
       " 44246799.599999994]"
      ]
     },
     "execution_count": 13,
     "metadata": {},
     "output_type": "execute_result"
    }
   ],
   "source": [
    "wss"
   ]
  },
  {
   "cell_type": "code",
   "execution_count": 14,
   "id": "5cd89317-6ada-4587-93a6-b0102d03f438",
   "metadata": {},
   "outputs": [
    {
     "data": {
      "text/plain": [
       "<matplotlib.legend.Legend at 0x17c40be17f0>"
      ]
     },
     "execution_count": 14,
     "metadata": {},
     "output_type": "execute_result"
    },
    {
     "data": {
      "image/png": "[encoded data removed]",
      "text/plain": [
       "<Figure size 640x480 with 1 Axes>"
      ]
     },
     "metadata": {},
     "output_type": "display_data"
    }
   ],
   "source": [
    "plt.scatter(range(1, 10), wss, label=\"WSS\")\n",
    "plt.plot(range(1, 10), wss)\n",
    "plt.xlabel(\"No of clusters\")\n",
    "plt.ylabel(\"WSS\")\n",
    "plt.title(\"Elbow Method\")\n",
    "plt.legend()"
   ]
  },
  {
   "cell_type": "code",
   "execution_count": null,
   "id": "b3b42748-8029-4bfd-889e-3f9e7f15bac4",
   "metadata": {},
   "outputs": [],
   "source": []
  }
 ],
 "metadata": {
  "kernelspec": {
   "display_name": "Python 3 (ipykernel)",
   "language": "python",
   "name": "python3"
  },
  "language_info": {
   "codemirror_mode": {
    "name": "ipython",
    "version": 3
   },
   "file_extension": ".py",
   "mimetype": "text/x-python",
   "name": "python",
   "nbconvert_exporter": "python",
   "pygments_lexer": "ipython3",
   "version": "3.13.2"
  }
 },
 "nbformat": 4,
 "nbformat_minor": 5
}
